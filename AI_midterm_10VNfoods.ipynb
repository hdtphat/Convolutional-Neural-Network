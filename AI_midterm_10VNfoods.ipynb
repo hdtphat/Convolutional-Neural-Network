{
  "nbformat": 4,
  "nbformat_minor": 0,
  "metadata": {
    "colab": {
      "provenance": [],
      "gpuType": "T4"
    },
    "kernelspec": {
      "name": "python3",
      "display_name": "Python 3"
    },
    "language_info": {
      "name": "python"
    },
    "accelerator": "GPU",
    "gpuClass": "standard"
  },
  "cells": [
    {
      "cell_type": "markdown",
      "source": [
        "## **Dataset 3:** 10VNfoods"
      ],
      "metadata": {
        "id": "2IFSUTgt5CL1"
      }
    },
    {
      "cell_type": "markdown",
      "source": [
        "# **XÂY DỰNG MÔ HÌNH**"
      ],
      "metadata": {
        "id": "CT19oeaf6h8u"
      }
    },
    {
      "cell_type": "code",
      "execution_count": null,
      "metadata": {
        "id": "cEZppfZ42D6a",
        "colab": {
          "base_uri": "https://localhost:8080/"
        },
        "outputId": "52b82e63-4d2b-405b-8b3f-24833194de88"
      },
      "outputs": [
        {
          "output_type": "stream",
          "name": "stdout",
          "text": [
            "X size: (1400, 30, 30, 3) \n",
            "y size: (1400, 11)\n"
          ]
        }
      ],
      "source": [
        "from os import listdir\n",
        "from numpy import asarray, save\n",
        "from keras.utils import load_img, img_to_array, to_categorical\n",
        "\n",
        "folder = '/content/drive/MyDrive/AI_dataset_10VNfoods/train_set/'\n",
        "photos, labels = list(), list()\n",
        "\n",
        "for file in listdir(folder):\n",
        "    output = 0\n",
        "    if file.startswith('bunbohue'):       # bún bò huế\n",
        "        output = 1\n",
        "    if file.startswith('banhxeo'):        # bánh xèo\n",
        "        output = 2\n",
        "    if file.startswith('banhmi'):         # bánh mì\n",
        "        output = 3\n",
        "    if file.startswith('comtam'):         # cơm tấm\n",
        "        output = 4\n",
        "    if file.startswith('bunthitnuong'):   # bún thịt nướng\n",
        "        output = 5\n",
        "    if file.startswith('chedauden'):      # chè đậu đen\n",
        "        output = 6\n",
        "    if file.startswith('banhtrungthu'):   # bánh trung thu\n",
        "        output = 7\n",
        "    if file.startswith('banhchung'):      # bánh chưng\n",
        "        output = 8\n",
        "    if file.startswith('xoigac'):         # xôi gấc\n",
        "        output = 9\n",
        "    if file.startswith('thitga'):         # thịt gà luộc\n",
        "        output = 10\n",
        "    \n",
        "\n",
        "    photo = load_img(folder+file,target_size=(30,30))\n",
        "    photo = img_to_array(photo)\n",
        "    photos.append(photo)\n",
        "    labels.append(output)\n",
        "\n",
        "photos = asarray(photos) \n",
        "labels = asarray(labels) \n",
        "labels = to_categorical(labels)  # one-hot encode the labels\n",
        "print('X size:', photos.shape,'\\ny size:' , labels.shape)\n",
        "save('x_train_imgs.npy',photos)\n",
        "save('y_train_labels.npy',labels)"
      ]
    },
    {
      "cell_type": "code",
      "source": [
        "import numpy as np\n",
        "x_train = np.load('x_train_imgs.npy')\n",
        "y_train = np.load('y_train_labels.npy')\n",
        "x_train = x_train.reshape(1400, 30, 30, 3)\n",
        "x_train= x_train.astype('float32')/255\n",
        "print(x_train.shape, y_train.shape)"
      ],
      "metadata": {
        "colab": {
          "base_uri": "https://localhost:8080/"
        },
        "id": "tWnA_ujc2ttz",
        "outputId": "d1f817c9-96c0-4ea6-8804-2cf8bc1f79ed"
      },
      "execution_count": null,
      "outputs": [
        {
          "output_type": "stream",
          "name": "stdout",
          "text": [
            "(1400, 30, 30, 3) (1400, 11)\n"
          ]
        }
      ]
    },
    {
      "cell_type": "code",
      "source": [
        "from keras.models import Sequential\n",
        "from keras.layers import Dense,Flatten,Dropout,Conv2D,MaxPooling2D,Normalization,LeakyReLU\n",
        "\n",
        "model=Sequential()\n",
        "model.add(Conv2D(32,kernel_size=(3,3),activation='relu',input_shape=(30,30,3),padding='same'))\n",
        "model.add(LeakyReLU(alpha=0.1))\n",
        "model.add(MaxPooling2D((2,2),padding='same'))\n",
        "model.add(Dropout(0.25))\n",
        "\n",
        "model.add(Conv2D(64,kernel_size=(3,3),activation='relu',padding='same'))\n",
        "model.add(LeakyReLU(alpha=0.2))\n",
        "model.add(MaxPooling2D((2,2),padding='same'))\n",
        "model.add(Dropout(0.25))\n",
        "\n",
        "model.add(Conv2D(256,kernel_size=(3,3),activation='relu',padding='same'))\n",
        "model.add(LeakyReLU(alpha=0.1))\n",
        "model.add(MaxPooling2D((2,2),padding='same'))\n",
        "model.add(Dropout(0.25))\n",
        "\n",
        "model.add(Conv2D(512,kernel_size=(3,3),activation='relu',padding='same'))\n",
        "model.add(LeakyReLU(alpha=0.1))\n",
        "model.add(MaxPooling2D((2,2),padding='same'))\n",
        "model.add(Dropout(0.25))\n",
        "\n",
        "model.add(Flatten())\n",
        "model.add(Dense(128,activation='relu'))\n",
        "model.add(Dense(11,activation='softmax'))\n",
        "\n",
        "from keras.losses import categorical_crossentropy\n",
        "from keras.optimizers import Adam\n",
        "model.compile(loss=categorical_crossentropy,optimizer=Adam(),metrics=['accuracy'])\n",
        "train = model.fit(x_train,y_train,batch_size=64,epochs=30,verbose=1)\n",
        "model.summary()"
      ],
      "metadata": {
        "colab": {
          "base_uri": "https://localhost:8080/"
        },
        "id": "eSzbuJF83D7R",
        "outputId": "36faae34-29fa-4b91-ae61-bd84f3a9c2cd"
      },
      "execution_count": null,
      "outputs": [
        {
          "output_type": "stream",
          "name": "stdout",
          "text": [
            "Epoch 1/30\n",
            "22/22 [==============================] - 10s 24ms/step - loss: 2.2716 - accuracy: 0.1564\n",
            "Epoch 2/30\n",
            "22/22 [==============================] - 0s 9ms/step - loss: 1.8265 - accuracy: 0.3179\n",
            "Epoch 3/30\n",
            "22/22 [==============================] - 0s 9ms/step - loss: 1.5925 - accuracy: 0.4286\n",
            "Epoch 4/30\n",
            "22/22 [==============================] - 0s 8ms/step - loss: 1.4339 - accuracy: 0.4857\n",
            "Epoch 5/30\n",
            "22/22 [==============================] - 0s 9ms/step - loss: 1.3531 - accuracy: 0.5000\n",
            "Epoch 6/30\n",
            "22/22 [==============================] - 0s 9ms/step - loss: 1.2540 - accuracy: 0.5493\n",
            "Epoch 7/30\n",
            "22/22 [==============================] - 0s 8ms/step - loss: 1.1657 - accuracy: 0.5793\n",
            "Epoch 8/30\n",
            "22/22 [==============================] - 0s 8ms/step - loss: 1.1444 - accuracy: 0.6014\n",
            "Epoch 9/30\n",
            "22/22 [==============================] - 0s 9ms/step - loss: 1.0355 - accuracy: 0.6257\n",
            "Epoch 10/30\n",
            "22/22 [==============================] - 0s 9ms/step - loss: 0.9864 - accuracy: 0.6486\n",
            "Epoch 11/30\n",
            "22/22 [==============================] - 0s 8ms/step - loss: 0.9229 - accuracy: 0.6771\n",
            "Epoch 12/30\n",
            "22/22 [==============================] - 0s 9ms/step - loss: 0.8269 - accuracy: 0.7029\n",
            "Epoch 13/30\n",
            "22/22 [==============================] - 0s 8ms/step - loss: 0.7715 - accuracy: 0.7343\n",
            "Epoch 14/30\n",
            "22/22 [==============================] - 0s 8ms/step - loss: 0.7806 - accuracy: 0.7236\n",
            "Epoch 15/30\n",
            "22/22 [==============================] - 0s 8ms/step - loss: 0.7056 - accuracy: 0.7521\n",
            "Epoch 16/30\n",
            "22/22 [==============================] - 0s 8ms/step - loss: 0.6134 - accuracy: 0.7764\n",
            "Epoch 17/30\n",
            "22/22 [==============================] - 0s 8ms/step - loss: 0.5750 - accuracy: 0.8057\n",
            "Epoch 18/30\n",
            "22/22 [==============================] - 0s 8ms/step - loss: 0.5306 - accuracy: 0.8200\n",
            "Epoch 19/30\n",
            "22/22 [==============================] - 0s 8ms/step - loss: 0.4776 - accuracy: 0.8364\n",
            "Epoch 20/30\n",
            "22/22 [==============================] - 0s 8ms/step - loss: 0.4466 - accuracy: 0.8464\n",
            "Epoch 21/30\n",
            "22/22 [==============================] - 0s 8ms/step - loss: 0.4251 - accuracy: 0.8536\n",
            "Epoch 22/30\n",
            "22/22 [==============================] - 0s 8ms/step - loss: 0.3786 - accuracy: 0.8664\n",
            "Epoch 23/30\n",
            "22/22 [==============================] - 0s 8ms/step - loss: 0.3179 - accuracy: 0.8929\n",
            "Epoch 24/30\n",
            "22/22 [==============================] - 0s 8ms/step - loss: 0.2891 - accuracy: 0.9064\n",
            "Epoch 25/30\n",
            "22/22 [==============================] - 0s 8ms/step - loss: 0.2645 - accuracy: 0.9043\n",
            "Epoch 26/30\n",
            "22/22 [==============================] - 0s 8ms/step - loss: 0.2124 - accuracy: 0.9336\n",
            "Epoch 27/30\n",
            "22/22 [==============================] - 0s 8ms/step - loss: 0.1654 - accuracy: 0.9379\n",
            "Epoch 28/30\n",
            "22/22 [==============================] - 0s 8ms/step - loss: 0.1955 - accuracy: 0.9364\n",
            "Epoch 29/30\n",
            "22/22 [==============================] - 0s 8ms/step - loss: 0.1569 - accuracy: 0.9529\n",
            "Epoch 30/30\n",
            "22/22 [==============================] - 0s 8ms/step - loss: 0.1500 - accuracy: 0.9471\n",
            "Model: \"sequential\"\n",
            "_________________________________________________________________\n",
            " Layer (type)                Output Shape              Param #   \n",
            "=================================================================\n",
            " conv2d (Conv2D)             (None, 30, 30, 32)        896       \n",
            "                                                                 \n",
            " leaky_re_lu (LeakyReLU)     (None, 30, 30, 32)        0         \n",
            "                                                                 \n",
            " max_pooling2d (MaxPooling2D  (None, 15, 15, 32)       0         \n",
            " )                                                               \n",
            "                                                                 \n",
            " dropout (Dropout)           (None, 15, 15, 32)        0         \n",
            "                                                                 \n",
            " conv2d_1 (Conv2D)           (None, 15, 15, 64)        18496     \n",
            "                                                                 \n",
            " leaky_re_lu_1 (LeakyReLU)   (None, 15, 15, 64)        0         \n",
            "                                                                 \n",
            " max_pooling2d_1 (MaxPooling  (None, 8, 8, 64)         0         \n",
            " 2D)                                                             \n",
            "                                                                 \n",
            " dropout_1 (Dropout)         (None, 8, 8, 64)          0         \n",
            "                                                                 \n",
            " conv2d_2 (Conv2D)           (None, 8, 8, 256)         147712    \n",
            "                                                                 \n",
            " leaky_re_lu_2 (LeakyReLU)   (None, 8, 8, 256)         0         \n",
            "                                                                 \n",
            " max_pooling2d_2 (MaxPooling  (None, 4, 4, 256)        0         \n",
            " 2D)                                                             \n",
            "                                                                 \n",
            " dropout_2 (Dropout)         (None, 4, 4, 256)         0         \n",
            "                                                                 \n",
            " conv2d_3 (Conv2D)           (None, 4, 4, 512)         1180160   \n",
            "                                                                 \n",
            " leaky_re_lu_3 (LeakyReLU)   (None, 4, 4, 512)         0         \n",
            "                                                                 \n",
            " max_pooling2d_3 (MaxPooling  (None, 2, 2, 512)        0         \n",
            " 2D)                                                             \n",
            "                                                                 \n",
            " dropout_3 (Dropout)         (None, 2, 2, 512)         0         \n",
            "                                                                 \n",
            " flatten (Flatten)           (None, 2048)              0         \n",
            "                                                                 \n",
            " dense (Dense)               (None, 128)               262272    \n",
            "                                                                 \n",
            " dense_1 (Dense)             (None, 11)                1419      \n",
            "                                                                 \n",
            "=================================================================\n",
            "Total params: 1,610,955\n",
            "Trainable params: 1,610,955\n",
            "Non-trainable params: 0\n",
            "_________________________________________________________________\n"
          ]
        }
      ]
    },
    {
      "cell_type": "markdown",
      "source": [
        "# **TÍNH TOÁN ĐỘ CHÍNH XÁC**"
      ],
      "metadata": {
        "id": "6BJ477XI7e4L"
      }
    },
    {
      "cell_type": "code",
      "source": [
        "import numpy as np\n",
        "from os import listdir\n",
        "from numpy import asarray, save\n",
        "from keras.utils import load_img, img_to_array, to_categorical\n",
        "\n",
        "\n",
        "folder = '/content/drive/MyDrive/AI_dataset_10VNfoods/train_set/'\n",
        "photos, labels = list(), list()\n",
        "\n",
        "for file in listdir(folder):\n",
        "    output = 0\n",
        "    if file.startswith('bunbohue'):       # bún bò huế\n",
        "        output = 1\n",
        "    if file.startswith('banhxeo'):        # bánh xèo\n",
        "        output = 2\n",
        "    if file.startswith('banhmi'):         # bánh mì\n",
        "        output = 3\n",
        "    if file.startswith('comtam'):         # cơm tấm\n",
        "        output = 4\n",
        "    if file.startswith('bunthitnuong'):   # bún thịt nướng\n",
        "        output = 5\n",
        "    if file.startswith('chedauden'):      # chè đậu đen\n",
        "        output = 6\n",
        "    if file.startswith('banhtrungthu'):   # bánh trung thu\n",
        "        output = 7\n",
        "    if file.startswith('banhchung'):      # bánh chưng\n",
        "        output = 8\n",
        "    if file.startswith('xoigac'):         # xôi gấc\n",
        "        output = 9\n",
        "    if file.startswith('thitga'):         # thịt gà luộc\n",
        "        output = 10\n",
        "\n",
        "    photo = load_img(folder+file,target_size=(30,30))\n",
        "    photo = img_to_array(photo)\n",
        "    photos.append(photo)\n",
        "    labels.append(output)\n",
        "\n",
        "photos = asarray(photos) \n",
        "labels = asarray(labels) \n",
        "labels = to_categorical(labels) \n",
        "print('X size:', photos.shape,'\\ny size:' , labels.shape)\n",
        "\n",
        "save('test_imgs.npy',photos)\n",
        "save('test_labels.npy',labels)\n",
        "\n",
        "x_test = np.load('test_imgs.npy')\n",
        "y_test = np.load('test_labels.npy')\n",
        "x_test = x_test.reshape(1400, 30, 30, 3)\n",
        "x_test = x_test.astype('float32')/255\n",
        "print(x_test.shape, y_test.shape)"
      ],
      "metadata": {
        "colab": {
          "base_uri": "https://localhost:8080/"
        },
        "id": "xSEYWk3Y70Hy",
        "outputId": "c0547baa-a8b5-4168-c24b-2afaaabc39b1"
      },
      "execution_count": null,
      "outputs": [
        {
          "output_type": "stream",
          "name": "stdout",
          "text": [
            "X size: (61, 30, 30, 3) \n",
            "y size: (61, 9)\n",
            "(61, 30, 30, 3) (61, 9)\n"
          ]
        }
      ]
    },
    {
      "cell_type": "code",
      "source": [
        "loss,acc = model.evaluate(x_test, y_test)\n",
        "print('accuracy:', acc, '\\nloss:', loss)"
      ],
      "metadata": {
        "colab": {
          "base_uri": "https://localhost:8080/",
          "height": 1000
        },
        "id": "5ZtFz6aP8YKr",
        "outputId": "b30350b1-fe3a-4228-82af-fcb10fe0eb24"
      },
      "execution_count": null,
      "outputs": [
        {
          "output_type": "error",
          "ename": "InvalidArgumentError",
          "evalue": "ignored",
          "traceback": [
            "\u001b[0;31m---------------------------------------------------------------------------\u001b[0m",
            "\u001b[0;31mInvalidArgumentError\u001b[0m                      Traceback (most recent call last)",
            "\u001b[0;32m<ipython-input-8-e7e489b9cf16>\u001b[0m in \u001b[0;36m<cell line: 1>\u001b[0;34m()\u001b[0m\n\u001b[0;32m----> 1\u001b[0;31m \u001b[0mloss\u001b[0m\u001b[0;34m,\u001b[0m\u001b[0macc\u001b[0m \u001b[0;34m=\u001b[0m \u001b[0mmodel\u001b[0m\u001b[0;34m.\u001b[0m\u001b[0mevaluate\u001b[0m\u001b[0;34m(\u001b[0m\u001b[0mx_test\u001b[0m\u001b[0;34m,\u001b[0m \u001b[0my_test\u001b[0m\u001b[0;34m)\u001b[0m\u001b[0;34m\u001b[0m\u001b[0;34m\u001b[0m\u001b[0m\n\u001b[0m\u001b[1;32m      2\u001b[0m \u001b[0mprint\u001b[0m\u001b[0;34m(\u001b[0m\u001b[0;34m'accuracy:'\u001b[0m\u001b[0;34m,\u001b[0m \u001b[0macc\u001b[0m\u001b[0;34m,\u001b[0m \u001b[0;34m'\\nloss:'\u001b[0m\u001b[0;34m,\u001b[0m \u001b[0mloss\u001b[0m\u001b[0;34m)\u001b[0m\u001b[0;34m\u001b[0m\u001b[0;34m\u001b[0m\u001b[0m\n",
            "\u001b[0;32m/usr/local/lib/python3.9/dist-packages/keras/utils/traceback_utils.py\u001b[0m in \u001b[0;36merror_handler\u001b[0;34m(*args, **kwargs)\u001b[0m\n\u001b[1;32m     68\u001b[0m             \u001b[0;31m# To get the full stack trace, call:\u001b[0m\u001b[0;34m\u001b[0m\u001b[0;34m\u001b[0m\u001b[0m\n\u001b[1;32m     69\u001b[0m             \u001b[0;31m# `tf.debugging.disable_traceback_filtering()`\u001b[0m\u001b[0;34m\u001b[0m\u001b[0;34m\u001b[0m\u001b[0m\n\u001b[0;32m---> 70\u001b[0;31m             \u001b[0;32mraise\u001b[0m \u001b[0me\u001b[0m\u001b[0;34m.\u001b[0m\u001b[0mwith_traceback\u001b[0m\u001b[0;34m(\u001b[0m\u001b[0mfiltered_tb\u001b[0m\u001b[0;34m)\u001b[0m \u001b[0;32mfrom\u001b[0m \u001b[0;32mNone\u001b[0m\u001b[0;34m\u001b[0m\u001b[0;34m\u001b[0m\u001b[0m\n\u001b[0m\u001b[1;32m     71\u001b[0m         \u001b[0;32mfinally\u001b[0m\u001b[0;34m:\u001b[0m\u001b[0;34m\u001b[0m\u001b[0;34m\u001b[0m\u001b[0m\n\u001b[1;32m     72\u001b[0m             \u001b[0;32mdel\u001b[0m \u001b[0mfiltered_tb\u001b[0m\u001b[0;34m\u001b[0m\u001b[0;34m\u001b[0m\u001b[0m\n",
            "\u001b[0;32m/usr/local/lib/python3.9/dist-packages/tensorflow/python/eager/execute.py\u001b[0m in \u001b[0;36mquick_execute\u001b[0;34m(op_name, num_outputs, inputs, attrs, ctx, name)\u001b[0m\n\u001b[1;32m     50\u001b[0m   \u001b[0;32mtry\u001b[0m\u001b[0;34m:\u001b[0m\u001b[0;34m\u001b[0m\u001b[0;34m\u001b[0m\u001b[0m\n\u001b[1;32m     51\u001b[0m     \u001b[0mctx\u001b[0m\u001b[0;34m.\u001b[0m\u001b[0mensure_initialized\u001b[0m\u001b[0;34m(\u001b[0m\u001b[0;34m)\u001b[0m\u001b[0;34m\u001b[0m\u001b[0;34m\u001b[0m\u001b[0m\n\u001b[0;32m---> 52\u001b[0;31m     tensors = pywrap_tfe.TFE_Py_Execute(ctx._handle, device_name, op_name,\n\u001b[0m\u001b[1;32m     53\u001b[0m                                         inputs, attrs, num_outputs)\n\u001b[1;32m     54\u001b[0m   \u001b[0;32mexcept\u001b[0m \u001b[0mcore\u001b[0m\u001b[0;34m.\u001b[0m\u001b[0m_NotOkStatusException\u001b[0m \u001b[0;32mas\u001b[0m \u001b[0me\u001b[0m\u001b[0;34m:\u001b[0m\u001b[0;34m\u001b[0m\u001b[0;34m\u001b[0m\u001b[0m\n",
            "\u001b[0;31mInvalidArgumentError\u001b[0m: Graph execution error:\n\nDetected at node 'categorical_crossentropy/softmax_cross_entropy_with_logits' defined at (most recent call last):\n    File \"/usr/lib/python3.9/runpy.py\", line 197, in _run_module_as_main\n      return _run_code(code, main_globals, None,\n    File \"/usr/lib/python3.9/runpy.py\", line 87, in _run_code\n      exec(code, run_globals)\n    File \"/usr/local/lib/python3.9/dist-packages/ipykernel_launcher.py\", line 16, in <module>\n      app.launch_new_instance()\n    File \"/usr/local/lib/python3.9/dist-packages/traitlets/config/application.py\", line 992, in launch_instance\n      app.start()\n    File \"/usr/local/lib/python3.9/dist-packages/ipykernel/kernelapp.py\", line 619, in start\n      self.io_loop.start()\n    File \"/usr/local/lib/python3.9/dist-packages/tornado/platform/asyncio.py\", line 215, in start\n      self.asyncio_loop.run_forever()\n    File \"/usr/lib/python3.9/asyncio/base_events.py\", line 601, in run_forever\n      self._run_once()\n    File \"/usr/lib/python3.9/asyncio/base_events.py\", line 1905, in _run_once\n      handle._run()\n    File \"/usr/lib/python3.9/asyncio/events.py\", line 80, in _run\n      self._context.run(self._callback, *self._args)\n    File \"/usr/local/lib/python3.9/dist-packages/tornado/ioloop.py\", line 687, in <lambda>\n      lambda f: self._run_callback(functools.partial(callback, future))\n    File \"/usr/local/lib/python3.9/dist-packages/tornado/ioloop.py\", line 740, in _run_callback\n      ret = callback()\n    File \"/usr/local/lib/python3.9/dist-packages/tornado/gen.py\", line 821, in inner\n      self.ctx_run(self.run)\n    File \"/usr/local/lib/python3.9/dist-packages/tornado/gen.py\", line 782, in run\n      yielded = self.gen.send(value)\n    File \"/usr/local/lib/python3.9/dist-packages/ipykernel/kernelbase.py\", line 361, in process_one\n      yield gen.maybe_future(dispatch(*args))\n    File \"/usr/local/lib/python3.9/dist-packages/tornado/gen.py\", line 234, in wrapper\n      yielded = ctx_run(next, result)\n    File \"/usr/local/lib/python3.9/dist-packages/ipykernel/kernelbase.py\", line 261, in dispatch_shell\n      yield gen.maybe_future(handler(stream, idents, msg))\n    File \"/usr/local/lib/python3.9/dist-packages/tornado/gen.py\", line 234, in wrapper\n      yielded = ctx_run(next, result)\n    File \"/usr/local/lib/python3.9/dist-packages/ipykernel/kernelbase.py\", line 539, in execute_request\n      self.do_execute(\n    File \"/usr/local/lib/python3.9/dist-packages/tornado/gen.py\", line 234, in wrapper\n      yielded = ctx_run(next, result)\n    File \"/usr/local/lib/python3.9/dist-packages/ipykernel/ipkernel.py\", line 302, in do_execute\n      res = shell.run_cell(code, store_history=store_history, silent=silent)\n    File \"/usr/local/lib/python3.9/dist-packages/ipykernel/zmqshell.py\", line 539, in run_cell\n      return super(ZMQInteractiveShell, self).run_cell(*args, **kwargs)\n    File \"/usr/local/lib/python3.9/dist-packages/IPython/core/interactiveshell.py\", line 2975, in run_cell\n      result = self._run_cell(\n    File \"/usr/local/lib/python3.9/dist-packages/IPython/core/interactiveshell.py\", line 3030, in _run_cell\n      return runner(coro)\n    File \"/usr/local/lib/python3.9/dist-packages/IPython/core/async_helpers.py\", line 78, in _pseudo_sync_runner\n      coro.send(None)\n    File \"/usr/local/lib/python3.9/dist-packages/IPython/core/interactiveshell.py\", line 3257, in run_cell_async\n      has_raised = await self.run_ast_nodes(code_ast.body, cell_name,\n    File \"/usr/local/lib/python3.9/dist-packages/IPython/core/interactiveshell.py\", line 3473, in run_ast_nodes\n      if (await self.run_code(code, result,  async_=asy)):\n    File \"/usr/local/lib/python3.9/dist-packages/IPython/core/interactiveshell.py\", line 3553, in run_code\n      exec(code_obj, self.user_global_ns, self.user_ns)\n    File \"<ipython-input-8-e7e489b9cf16>\", line 1, in <cell line: 1>\n      loss,acc = model.evaluate(x_test, y_test)\n    File \"/usr/local/lib/python3.9/dist-packages/keras/utils/traceback_utils.py\", line 65, in error_handler\n      return fn(*args, **kwargs)\n    File \"/usr/local/lib/python3.9/dist-packages/keras/engine/training.py\", line 2072, in evaluate\n      tmp_logs = self.test_function(iterator)\n    File \"/usr/local/lib/python3.9/dist-packages/keras/engine/training.py\", line 1852, in test_function\n      return step_function(self, iterator)\n    File \"/usr/local/lib/python3.9/dist-packages/keras/engine/training.py\", line 1836, in step_function\n      outputs = model.distribute_strategy.run(run_step, args=(data,))\n    File \"/usr/local/lib/python3.9/dist-packages/keras/engine/training.py\", line 1824, in run_step\n      outputs = model.test_step(data)\n    File \"/usr/local/lib/python3.9/dist-packages/keras/engine/training.py\", line 1790, in test_step\n      self.compute_loss(x, y, y_pred, sample_weight)\n    File \"/usr/local/lib/python3.9/dist-packages/keras/engine/training.py\", line 1109, in compute_loss\n      return self.compiled_loss(\n    File \"/usr/local/lib/python3.9/dist-packages/keras/engine/compile_utils.py\", line 265, in __call__\n      loss_value = loss_obj(y_t, y_p, sample_weight=sw)\n    File \"/usr/local/lib/python3.9/dist-packages/keras/losses.py\", line 142, in __call__\n      losses = call_fn(y_true, y_pred)\n    File \"/usr/local/lib/python3.9/dist-packages/keras/losses.py\", line 268, in call\n      return ag_fn(y_true, y_pred, **self._fn_kwargs)\n    File \"/usr/local/lib/python3.9/dist-packages/keras/losses.py\", line 1984, in categorical_crossentropy\n      return backend.categorical_crossentropy(\n    File \"/usr/local/lib/python3.9/dist-packages/keras/backend.py\", line 5565, in categorical_crossentropy\n      return tf.nn.softmax_cross_entropy_with_logits(\nNode: 'categorical_crossentropy/softmax_cross_entropy_with_logits'\nlogits and labels must be broadcastable: logits_size=[32,11] labels_size=[32,9]\n\t [[{{node categorical_crossentropy/softmax_cross_entropy_with_logits}}]] [Op:__inference_test_function_4895]"
          ]
        }
      ]
    },
    {
      "cell_type": "code",
      "source": [
        "model.save('model_10VNfoods_75acc.h5')"
      ],
      "metadata": {
        "id": "Sxmb1o1qwSRz"
      },
      "execution_count": null,
      "outputs": []
    },
    {
      "cell_type": "markdown",
      "source": [
        "# **DỰ ĐOÁN 10 ẢNH CÓ SẴN TRONG TỆP KIỂM TRA (TEST_SET)**"
      ],
      "metadata": {
        "id": "KF_ByZzl9D0n"
      }
    },
    {
      "cell_type": "code",
      "source": [
        "import matplotlib.pyplot as plt\n",
        "from matplotlib.image import imread\n",
        "\n",
        "folder = '/content/drive/MyDrive/AI_dataset_10VNfoods/test_set/'\n",
        "\n",
        "my_dict = {1:'bun bo hue', 2:'banh xeo', 3:'banh mi', 4:'com tam', 5:'bun thit nuong',\n",
        "           6:'che dau den', 7:'banh trung thu', 8:'banh chung', 9:'xoi gac', 10:'thit ga'}\n",
        "\n",
        "print('available options: banhmi, bunbohue, banhxeo, comtam, bunthitnuong,\\nchedauden, banhtrungthu, banhchung, xoigac, thitga\\n')\n",
        "input_ = input(\"what do you want to predict from test_set: \")\n",
        "\n",
        "for i in range(10):\n",
        "  plt.subplot(10,6,i+1)\n",
        "  filename = folder + input_ + ' (' + str(i+1) + ').jpg'\n",
        "  img = imread(filename)\n",
        "  plt.imshow(img)\n",
        "  # Load the image and convert it to a numpy array\n",
        "  img = load_img(filename, target_size=(30, 30))\n",
        "  img_arr = img_to_array(img)\n",
        "  img_arr = img_arr.reshape((1,) + img_arr.shape)\n",
        "  # Perform prediction on the image\n",
        "  prediction = model.predict(img_arr)\n",
        "  # Get the label with the highest probability\n",
        "  label = np.argmax(prediction)\n",
        "  print('Predicted label:', my_dict[label])\n",
        "plt.show()"
      ],
      "metadata": {
        "colab": {
          "base_uri": "https://localhost:8080/",
          "height": 573
        },
        "id": "td5z-M2R3PSG",
        "outputId": "32943707-5f88-4e30-987c-a96d255560e2"
      },
      "execution_count": null,
      "outputs": [
        {
          "output_type": "stream",
          "name": "stdout",
          "text": [
            "available options: banhmi, bunbohue, banhxeo, comtam, bunthitnuong,\n",
            "chedauden, banhtrungthu, banhchung, xoigac, thitga\n",
            "\n",
            "what do you want to predict from test_set: banhchung\n",
            "1/1 [==============================] - 0s 30ms/step\n",
            "Predicted label: banh chung\n",
            "1/1 [==============================] - 0s 31ms/step\n",
            "Predicted label: banh chung\n",
            "1/1 [==============================] - 0s 32ms/step\n",
            "Predicted label: banh chung\n",
            "1/1 [==============================] - 0s 28ms/step\n",
            "Predicted label: banh chung\n",
            "1/1 [==============================] - 0s 39ms/step\n",
            "Predicted label: banh chung\n",
            "1/1 [==============================] - 0s 31ms/step\n",
            "Predicted label: bun thit nuong\n",
            "1/1 [==============================] - 0s 32ms/step\n",
            "Predicted label: banh chung\n",
            "1/1 [==============================] - 0s 32ms/step\n",
            "Predicted label: banh chung\n",
            "1/1 [==============================] - 0s 34ms/step\n",
            "Predicted label: banh chung\n",
            "1/1 [==============================] - 0s 32ms/step\n",
            "Predicted label: banh chung\n"
          ]
        },
        {
          "output_type": "display_data",
          "data": {
            "text/plain": [
              "<Figure size 640x480 with 10 Axes>"
            ],
            "image/png": "[encoded data removed]"
          },
          "metadata": {}
        }
      ]
    },
    {
      "cell_type": "markdown",
      "source": [
        "# **DỰ ĐOÁN ẢNH BẰNG ẢNH NGOÀI TỰ TẢI LÊN**"
      ],
      "metadata": {
        "id": "wlVCJidS9Ufu"
      }
    },
    {
      "cell_type": "code",
      "source": [
        "from PIL import Image\n",
        "import matplotlib.pyplot as plt\n",
        "import numpy as np\n",
        "\n",
        "my_dict = {1:'bun bo hue', 2:'banh xeo', 3:'banh mi', 4:'com tam', 5:'bun thit nuong',\n",
        "           6:'che dau den', 7:'banh trung thu', 8:'banh chung', 9:'xoi gac', 10:'thit ga'}\n",
        "\n",
        "uploaded_imgs = ['thitga.jpg',\n",
        "                 'banhmi.jpg',\n",
        "                 'xoigac.jpg',\n",
        "                 'banhxeo.jpg']\n",
        "\n",
        "for image in uploaded_imgs:\n",
        "  # Load the image\n",
        "  img = Image.open(image).convert('RGB')\n",
        "  # convert it to a numpy array\n",
        "  img = img.resize((30,30))\n",
        "  img_arr = np.array(img)\n",
        "  img_arr = img_arr.reshape((1,) + img_arr.shape)\n",
        "  img_arr = img_arr.astype('float32')/255\n",
        "  # print uploaded image\n",
        "  plt.imshow(img)\n",
        "  # Perform prediction on the image\n",
        "  prediction = model.predict(img_arr)\n",
        "  # Get the label with the highest probability\n",
        "  label = np.argmax(prediction)\n",
        "  print('Predicted label:', my_dict[label])"
      ],
      "metadata": {
        "colab": {
          "base_uri": "https://localhost:8080/",
          "height": 576
        },
        "id": "Tcn5ZwBB9CUq",
        "outputId": "4eaca24b-edd5-4167-eaf5-5375c8f7f593"
      },
      "execution_count": null,
      "outputs": [
        {
          "output_type": "stream",
          "name": "stdout",
          "text": [
            "1/1 [==============================] - 0s 75ms/step\n",
            "Predicted label: thit ga\n",
            "1/1 [==============================] - 0s 17ms/step\n",
            "Predicted label: banh mi\n",
            "1/1 [==============================] - 0s 17ms/step\n",
            "Predicted label: xoi gac\n",
            "1/1 [==============================] - 0s 18ms/step\n",
            "Predicted label: banh xeo\n"
          ]
        },
        {
          "output_type": "display_data",
          "data": {
            "text/plain": [
              "<Figure size 640x480 with 1 Axes>"
            ],
            "image/png": "[encoded data removed]"
          },
          "metadata": {}
        }
      ]
    }
  ]
}